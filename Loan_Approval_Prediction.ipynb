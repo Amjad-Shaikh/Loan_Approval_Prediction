{
 "cells": [
  {
   "cell_type": "markdown",
   "id": "ebcd2004",
   "metadata": {},
   "source": [
    "# Read Dataset"
   ]
  },
  {
   "cell_type": "code",
   "execution_count": 2,
   "id": "806ca34e",
   "metadata": {},
   "outputs": [
    {
     "data": {
      "text/html": [
       "<div>\n",
       "<style scoped>\n",
       "    .dataframe tbody tr th:only-of-type {\n",
       "        vertical-align: middle;\n",
       "    }\n",
       "\n",
       "    .dataframe tbody tr th {\n",
       "        vertical-align: top;\n",
       "    }\n",
       "\n",
       "    .dataframe thead th {\n",
       "        text-align: right;\n",
       "    }\n",
       "</style>\n",
       "<table border=\"1\" class=\"dataframe\">\n",
       "  <thead>\n",
       "    <tr style=\"text-align: right;\">\n",
       "      <th></th>\n",
       "      <th>Loan_ID</th>\n",
       "      <th>Gender</th>\n",
       "      <th>Married</th>\n",
       "      <th>Dependents</th>\n",
       "      <th>Education</th>\n",
       "      <th>Self_Employed</th>\n",
       "      <th>ApplicantIncome</th>\n",
       "      <th>CoapplicantIncome</th>\n",
       "      <th>LoanAmount</th>\n",
       "      <th>Loan_Amount_Term</th>\n",
       "      <th>Credit_History</th>\n",
       "      <th>Property_Area</th>\n",
       "      <th>Loan_Status</th>\n",
       "    </tr>\n",
       "  </thead>\n",
       "  <tbody>\n",
       "    <tr>\n",
       "      <th>0</th>\n",
       "      <td>LP001002</td>\n",
       "      <td>Male</td>\n",
       "      <td>No</td>\n",
       "      <td>0</td>\n",
       "      <td>Graduate</td>\n",
       "      <td>No</td>\n",
       "      <td>5849.0</td>\n",
       "      <td>0.0</td>\n",
       "      <td>NaN</td>\n",
       "      <td>360.0</td>\n",
       "      <td>1.0</td>\n",
       "      <td>Urban</td>\n",
       "      <td>Y</td>\n",
       "    </tr>\n",
       "    <tr>\n",
       "      <th>1</th>\n",
       "      <td>LP001003</td>\n",
       "      <td>Male</td>\n",
       "      <td>Yes</td>\n",
       "      <td>1</td>\n",
       "      <td>Graduate</td>\n",
       "      <td>No</td>\n",
       "      <td>NaN</td>\n",
       "      <td>1508.0</td>\n",
       "      <td>128.0</td>\n",
       "      <td>360.0</td>\n",
       "      <td>1.0</td>\n",
       "      <td>Rural</td>\n",
       "      <td>N</td>\n",
       "    </tr>\n",
       "    <tr>\n",
       "      <th>2</th>\n",
       "      <td>LP001005</td>\n",
       "      <td>Male</td>\n",
       "      <td>Yes</td>\n",
       "      <td>0</td>\n",
       "      <td>Graduate</td>\n",
       "      <td>Yes</td>\n",
       "      <td>3000.0</td>\n",
       "      <td>0.0</td>\n",
       "      <td>66.0</td>\n",
       "      <td>360.0</td>\n",
       "      <td>1.0</td>\n",
       "      <td>Urban</td>\n",
       "      <td>Y</td>\n",
       "    </tr>\n",
       "    <tr>\n",
       "      <th>3</th>\n",
       "      <td>LP001006</td>\n",
       "      <td>Male</td>\n",
       "      <td>Yes</td>\n",
       "      <td>0</td>\n",
       "      <td>Not Graduate</td>\n",
       "      <td>No</td>\n",
       "      <td>2583.0</td>\n",
       "      <td>2358.0</td>\n",
       "      <td>120.0</td>\n",
       "      <td>360.0</td>\n",
       "      <td>1.0</td>\n",
       "      <td>Urban</td>\n",
       "      <td>Y</td>\n",
       "    </tr>\n",
       "    <tr>\n",
       "      <th>4</th>\n",
       "      <td>LP001008</td>\n",
       "      <td>Male</td>\n",
       "      <td>No</td>\n",
       "      <td>0</td>\n",
       "      <td>Graduate</td>\n",
       "      <td>No</td>\n",
       "      <td>6000.0</td>\n",
       "      <td>0.0</td>\n",
       "      <td>141.0</td>\n",
       "      <td>360.0</td>\n",
       "      <td>1.0</td>\n",
       "      <td>Urban</td>\n",
       "      <td>Y</td>\n",
       "    </tr>\n",
       "  </tbody>\n",
       "</table>\n",
       "</div>"
      ],
      "text/plain": [
       "    Loan_ID Gender Married Dependents  ... Loan_Amount_Term Credit_History  Property_Area  Loan_Status\n",
       "0  LP001002   Male      No          0  ...            360.0            1.0          Urban            Y\n",
       "1  LP001003   Male     Yes          1  ...            360.0            1.0          Rural            N\n",
       "2  LP001005   Male     Yes          0  ...            360.0            1.0          Urban            Y\n",
       "3  LP001006   Male     Yes          0  ...            360.0            1.0          Urban            Y\n",
       "4  LP001008   Male      No          0  ...            360.0            1.0          Urban            Y\n",
       "\n",
       "[5 rows x 13 columns]"
      ]
     },
     "execution_count": 2,
     "metadata": {},
     "output_type": "execute_result"
    }
   ],
   "source": [
    "from warnings import filterwarnings\n",
    "filterwarnings(\"ignore\")\n",
    "import pandas as pd \n",
    "A = pd.read_csv(\"C:/Users/Arshadali Shaikh/Downloads/training_set (2).csv\")\n",
    "A.head()"
   ]
  },
  {
   "cell_type": "markdown",
   "id": "2e2c102c",
   "metadata": {},
   "source": [
    "# Missing Data treatment"
   ]
  },
  {
   "cell_type": "code",
   "execution_count": 3,
   "id": "dc9aadf2",
   "metadata": {},
   "outputs": [],
   "source": [
    "def replacer(df):\n",
    "    for i in df.columns:\n",
    "        if(df[i].dtypes == \"object\"):\n",
    "            x = df[i].mode()[0]\n",
    "            df[i]=df[i].fillna(x)\n",
    "        else:\n",
    "            x = df[i].mean()\n",
    "            df[i]=df[i].fillna(x)"
   ]
  },
  {
   "cell_type": "code",
   "execution_count": 4,
   "id": "8259b9ad",
   "metadata": {},
   "outputs": [],
   "source": [
    "replacer(A)  # treat the missing data."
   ]
  },
  {
   "cell_type": "code",
   "execution_count": 5,
   "id": "86bd36f5",
   "metadata": {},
   "outputs": [
    {
     "data": {
      "text/plain": [
       "Loan_ID              0\n",
       "Gender               0\n",
       "Married              0\n",
       "Dependents           0\n",
       "Education            0\n",
       "Self_Employed        0\n",
       "ApplicantIncome      0\n",
       "CoapplicantIncome    0\n",
       "LoanAmount           0\n",
       "Loan_Amount_Term     0\n",
       "Credit_History       0\n",
       "Property_Area        0\n",
       "Loan_Status          0\n",
       "dtype: int64"
      ]
     },
     "execution_count": 5,
     "metadata": {},
     "output_type": "execute_result"
    }
   ],
   "source": [
    "A.isna().sum()"
   ]
  },
  {
   "cell_type": "markdown",
   "id": "6ab888ea",
   "metadata": {},
   "source": [
    "# Define X and Y"
   ]
  },
  {
   "cell_type": "code",
   "execution_count": 6,
   "id": "fc1a03f7",
   "metadata": {},
   "outputs": [],
   "source": [
    "Y = A[[\"Loan_Status\"]]\n",
    "X = A.drop(labels=[\"Loan_ID\",\"Loan_Status\"],axis=1)"
   ]
  },
  {
   "cell_type": "markdown",
   "id": "be0a78e2",
   "metadata": {},
   "source": [
    "# EDA\n",
    "Ycat,Xcon --> ANOVA\n",
    "\n",
    "Ycat,Xcat --> chisquare"
   ]
  },
  {
   "cell_type": "markdown",
   "id": "af30301f",
   "metadata": {},
   "source": [
    "# Divide data in con and cat"
   ]
  },
  {
   "cell_type": "code",
   "execution_count": 7,
   "id": "54bf60db",
   "metadata": {},
   "outputs": [],
   "source": [
    "cat = []\n",
    "con = []\n",
    "for i in X.columns:\n",
    "    if(X[i].dtypes == \"object\"):\n",
    "        cat.append(i)\n",
    "    else:\n",
    "        con.append(i)"
   ]
  },
  {
   "cell_type": "code",
   "execution_count": 8,
   "id": "0e833fe0",
   "metadata": {},
   "outputs": [
    {
     "name": "stdout",
     "output_type": "stream",
     "text": [
      "-------- Loan_Status vs ApplicantIncome -------\n",
      "0.903\n",
      "-------- Loan_Status vs CoapplicantIncome -------\n",
      "0.142\n",
      "-------- Loan_Status vs LoanAmount -------\n",
      "0.368\n",
      "-------- Loan_Status vs Loan_Amount_Term -------\n",
      "0.604\n",
      "-------- Loan_Status vs Credit_History -------\n",
      "0.0\n"
     ]
    }
   ],
   "source": [
    "from PM8 import ANOVA,chisquare\n",
    "\n",
    "for i in con:\n",
    "    print(\"--------\",\"Loan_Status vs\",i,\"-------\")\n",
    "    print(ANOVA(A,\"Loan_Status\",i))"
   ]
  },
  {
   "cell_type": "code",
   "execution_count": 9,
   "id": "10f4008e",
   "metadata": {},
   "outputs": [
    {
     "name": "stdout",
     "output_type": "stream",
     "text": [
      "-------- Loan_Status vs Gender -------\n",
      "0.7391461310869638\n",
      "-------- Loan_Status vs Married -------\n",
      "0.029608580862582116\n",
      "-------- Loan_Status vs Dependents -------\n",
      "0.3688663081366005\n",
      "-------- Loan_Status vs Education -------\n",
      "0.04309962129357355\n",
      "-------- Loan_Status vs Self_Employed -------\n",
      "1.0\n",
      "-------- Loan_Status vs Property_Area -------\n",
      "0.0021360187811644915\n"
     ]
    }
   ],
   "source": [
    "for i in cat:\n",
    "    print(\"--------\",\"Loan_Status vs\",i,\"-------\")\n",
    "    print(chisquare(A,\"Loan_Status\",i))"
   ]
  },
  {
   "cell_type": "markdown",
   "id": "c481250a",
   "metadata": {},
   "source": [
    "# Outliers"
   ]
  },
  {
   "cell_type": "code",
   "execution_count": 11,
   "id": "47501742",
   "metadata": {},
   "outputs": [],
   "source": [
    "from sklearn.preprocessing import StandardScaler\n",
    "ss = StandardScaler()"
   ]
  },
  {
   "cell_type": "code",
   "execution_count": 13,
   "id": "4540596c",
   "metadata": {},
   "outputs": [],
   "source": [
    "X1 = pd.DataFrame(ss.fit_transform(X[con]),columns=con)"
   ]
  },
  {
   "cell_type": "code",
   "execution_count": 14,
   "id": "3d852e01",
   "metadata": {},
   "outputs": [
    {
     "data": {
      "text/html": [
       "<div>\n",
       "<style scoped>\n",
       "    .dataframe tbody tr th:only-of-type {\n",
       "        vertical-align: middle;\n",
       "    }\n",
       "\n",
       "    .dataframe tbody tr th {\n",
       "        vertical-align: top;\n",
       "    }\n",
       "\n",
       "    .dataframe thead th {\n",
       "        text-align: right;\n",
       "    }\n",
       "</style>\n",
       "<table border=\"1\" class=\"dataframe\">\n",
       "  <thead>\n",
       "    <tr style=\"text-align: right;\">\n",
       "      <th></th>\n",
       "      <th>ApplicantIncome</th>\n",
       "      <th>CoapplicantIncome</th>\n",
       "      <th>LoanAmount</th>\n",
       "      <th>Loan_Amount_Term</th>\n",
       "      <th>Credit_History</th>\n",
       "    </tr>\n",
       "  </thead>\n",
       "  <tbody>\n",
       "    <tr>\n",
       "      <th>0</th>\n",
       "      <td>0.072651</td>\n",
       "      <td>-0.554368</td>\n",
       "      <td>0.000000</td>\n",
       "      <td>0.279851</td>\n",
       "      <td>0.45164</td>\n",
       "    </tr>\n",
       "    <tr>\n",
       "      <th>1</th>\n",
       "      <td>0.000000</td>\n",
       "      <td>-0.038610</td>\n",
       "      <td>-0.219273</td>\n",
       "      <td>0.279851</td>\n",
       "      <td>0.45164</td>\n",
       "    </tr>\n",
       "  </tbody>\n",
       "</table>\n",
       "</div>"
      ],
      "text/plain": [
       "   ApplicantIncome  CoapplicantIncome  LoanAmount  Loan_Amount_Term  Credit_History\n",
       "0         0.072651          -0.554368    0.000000          0.279851         0.45164\n",
       "1         0.000000          -0.038610   -0.219273          0.279851         0.45164"
      ]
     },
     "execution_count": 14,
     "metadata": {},
     "output_type": "execute_result"
    }
   ],
   "source": [
    "X1.head(2)"
   ]
  },
  {
   "cell_type": "code",
   "execution_count": 15,
   "id": "2911dc12",
   "metadata": {},
   "outputs": [],
   "source": [
    "from PM8wd import outliers\n",
    "OL = outliers(X1)"
   ]
  },
  {
   "cell_type": "code",
   "execution_count": 19,
   "id": "e38da0f9",
   "metadata": {},
   "outputs": [],
   "source": [
    "#OL"
   ]
  },
  {
   "cell_type": "code",
   "execution_count": 20,
   "id": "d5e03741",
   "metadata": {},
   "outputs": [],
   "source": [
    "X = X.drop(index=OL,axis=0)\n",
    "Y = Y.drop(index=OL,axis=0)  # dropped the outliers from the dataset"
   ]
  },
  {
   "cell_type": "code",
   "execution_count": 21,
   "id": "b3460ae6",
   "metadata": {},
   "outputs": [],
   "source": [
    "X.index = range(0,X.shape[0])\n",
    "Y.index = range(0,Y.shape[0])  # Reindex the data "
   ]
  },
  {
   "cell_type": "markdown",
   "id": "6c0b6e6e",
   "metadata": {},
   "source": [
    "# Preprocessing"
   ]
  },
  {
   "cell_type": "code",
   "execution_count": 22,
   "id": "eeabe707",
   "metadata": {},
   "outputs": [],
   "source": [
    "from PM8wd import preprocessing\n",
    "Xnew = preprocessing(X)"
   ]
  },
  {
   "cell_type": "code",
   "execution_count": 24,
   "id": "dd639ac1",
   "metadata": {},
   "outputs": [],
   "source": [
    "#Xnew"
   ]
  },
  {
   "cell_type": "markdown",
   "id": "9973c7d6",
   "metadata": {},
   "source": [
    "# Create a model using logistic Regression"
   ]
  },
  {
   "cell_type": "code",
   "execution_count": 27,
   "id": "d68e9015",
   "metadata": {},
   "outputs": [
    {
     "name": "stdout",
     "output_type": "stream",
     "text": [
      "0.8091106290672451 0.8362068965517241\n"
     ]
    }
   ],
   "source": [
    "from sklearn.model_selection import train_test_split\n",
    "xtrain,xtest,ytrain,ytest=train_test_split(Xnew,Y,test_size=0.2,random_state=21)\n",
    "\n",
    "from sklearn.linear_model import LogisticRegression\n",
    "lr = LogisticRegression()\n",
    "model = lr.fit(xtrain,ytrain)\n",
    "pred_tr = model.predict(xtrain)\n",
    "pred_ts = model.predict(xtest)\n",
    "from sklearn.metrics import accuracy_score\n",
    "tr_acc = accuracy_score(ytrain,pred_tr)\n",
    "ts_acc = accuracy_score(ytest,pred_ts)\n",
    "print(tr_acc,ts_acc)"
   ]
  },
  {
   "cell_type": "code",
   "execution_count": 30,
   "id": "73a48b06",
   "metadata": {},
   "outputs": [
    {
     "name": "stdout",
     "output_type": "stream",
     "text": [
      "0.8134490238611713 0.8362068965517241\n"
     ]
    }
   ],
   "source": [
    "from sklearn.tree import DecisionTreeClassifier\n",
    "dtc = DecisionTreeClassifier(criterion=\"entropy\",random_state=21,max_depth=2)\n",
    "model = dtc.fit(xtrain,ytrain)\n",
    "pred_tr = model.predict(xtrain)\n",
    "pred_ts = model.predict(xtest)\n",
    "from sklearn.metrics import accuracy_score\n",
    "tr_acc = accuracy_score(ytrain,pred_tr)\n",
    "ts_acc = accuracy_score(ytest,pred_ts)\n",
    "print(tr_acc,ts_acc)"
   ]
  },
  {
   "cell_type": "markdown",
   "id": "e6ffed7e",
   "metadata": {},
   "source": [
    "# Tree model"
   ]
  },
  {
   "cell_type": "code",
   "execution_count": 31,
   "id": "877fe124",
   "metadata": {},
   "outputs": [],
   "source": [
    "X = X[[\"Credit_History\",\"CoapplicantIncome\",\"Property_Area\",\"Education\",\"Married\"]]\n"
   ]
  },
  {
   "cell_type": "code",
   "execution_count": 32,
   "id": "361ff4d9",
   "metadata": {},
   "outputs": [],
   "source": [
    "Xnew = preprocessing(X)"
   ]
  },
  {
   "cell_type": "code",
   "execution_count": 33,
   "id": "d399bdc3",
   "metadata": {},
   "outputs": [],
   "source": [
    "from sklearn.model_selection import train_test_split\n",
    "xtrain,xtest,ytrain,ytest=train_test_split(Xnew,Y,test_size=0.2,random_state=21)"
   ]
  },
  {
   "cell_type": "code",
   "execution_count": 34,
   "id": "4b165a49",
   "metadata": {},
   "outputs": [
    {
     "data": {
      "text/plain": [
       "(577, 9)"
      ]
     },
     "execution_count": 34,
     "metadata": {},
     "output_type": "execute_result"
    }
   ],
   "source": [
    "Xnew.shape"
   ]
  },
  {
   "cell_type": "code",
   "execution_count": 35,
   "id": "9d4ccaab",
   "metadata": {},
   "outputs": [],
   "source": [
    "from sklearn.tree import DecisionTreeClassifier\n",
    "dtc = DecisionTreeClassifier(criterion=\"entropy\",random_state=21,max_depth=2)\n",
    "model = dtc.fit(xtrain,ytrain)\n",
    "pred_tr = model.predict(xtrain)\n",
    "pred_ts = model.predict(xtest)\n",
    "from sklearn.metrics import accuracy_score\n",
    "tr_acc = accuracy_score(ytrain,pred_tr)\n",
    "ts_acc = accuracy_score(ytest,pred_ts)"
   ]
  },
  {
   "cell_type": "code",
   "execution_count": 36,
   "id": "3b5be892",
   "metadata": {},
   "outputs": [
    {
     "data": {
      "text/plain": [
       "0.8134490238611713"
      ]
     },
     "execution_count": 36,
     "metadata": {},
     "output_type": "execute_result"
    }
   ],
   "source": [
    "tr_acc"
   ]
  },
  {
   "cell_type": "code",
   "execution_count": 37,
   "id": "70c7c1b4",
   "metadata": {},
   "outputs": [
    {
     "data": {
      "text/plain": [
       "0.8362068965517241"
      ]
     },
     "execution_count": 37,
     "metadata": {},
     "output_type": "execute_result"
    }
   ],
   "source": [
    "ts_acc"
   ]
  },
  {
   "cell_type": "markdown",
   "id": "bc9a5d24",
   "metadata": {},
   "source": [
    "# Using RandomForest Algorithm"
   ]
  },
  {
   "cell_type": "code",
   "execution_count": 38,
   "id": "55be44ee",
   "metadata": {},
   "outputs": [],
   "source": [
    "from sklearn.ensemble import RandomForestClassifier\n",
    "dtc = RandomForestClassifier(criterion=\"entropy\",random_state=21,max_depth=5)\n",
    "model = dtc.fit(xtrain,ytrain)\n",
    "pred_tr = model.predict(xtrain)\n",
    "pred_ts = model.predict(xtest)\n",
    "from sklearn.metrics import accuracy_score\n",
    "tr_acc = accuracy_score(ytrain,pred_tr)\n",
    "ts_acc = accuracy_score(ytest,pred_ts)"
   ]
  },
  {
   "cell_type": "code",
   "execution_count": 39,
   "id": "2ab77129",
   "metadata": {},
   "outputs": [
    {
     "data": {
      "text/plain": [
       "0.8199566160520607"
      ]
     },
     "execution_count": 39,
     "metadata": {},
     "output_type": "execute_result"
    }
   ],
   "source": [
    "tr_acc"
   ]
  },
  {
   "cell_type": "code",
   "execution_count": 40,
   "id": "c17552df",
   "metadata": {},
   "outputs": [
    {
     "data": {
      "text/plain": [
       "0.8448275862068966"
      ]
     },
     "execution_count": 40,
     "metadata": {},
     "output_type": "execute_result"
    }
   ],
   "source": [
    "ts_acc"
   ]
  },
  {
   "cell_type": "markdown",
   "id": "cea21088",
   "metadata": {},
   "source": [
    "# Gridsearch CV"
   ]
  },
  {
   "cell_type": "code",
   "execution_count": 41,
   "id": "f7ebf672",
   "metadata": {},
   "outputs": [],
   "source": [
    "tuning_grid = {\"max_depth\":range(2,5,1),\"criterion\":[\"gini\",\"entropy\"],\"n_estimators\":range(20,30,1)}"
   ]
  },
  {
   "cell_type": "code",
   "execution_count": 42,
   "id": "953fbe3d",
   "metadata": {},
   "outputs": [],
   "source": [
    "from sklearn.model_selection import GridSearchCV\n",
    "rfc = RandomForestClassifier(random_state=21)\n",
    "cv = GridSearchCV(rfc,tuning_grid,scoring=\"accuracy\",cv=4)  #Tuning hyperparameter to get best value. \n",
    "\n",
    "cvmodel = cv.fit(xtrain,ytrain)\n"
   ]
  },
  {
   "cell_type": "code",
   "execution_count": 43,
   "id": "7d8e81c4",
   "metadata": {},
   "outputs": [
    {
     "data": {
      "text/plain": [
       "{'criterion': 'gini', 'max_depth': 2, 'n_estimators': 20}"
      ]
     },
     "execution_count": 43,
     "metadata": {},
     "output_type": "execute_result"
    }
   ],
   "source": [
    "cvmodel.best_params_"
   ]
  },
  {
   "cell_type": "code",
   "execution_count": 45,
   "id": "1f691e5f",
   "metadata": {},
   "outputs": [
    {
     "name": "stdout",
     "output_type": "stream",
     "text": [
      "0.8112798264642083 0.8448275862068966\n"
     ]
    }
   ],
   "source": [
    "rfc = RandomForestClassifier(criterion='gini', max_depth=2, n_estimators= 20,random_state=21)\n",
    "model = rfc.fit(xtrain,ytrain)\n",
    "pred_tr = model.predict(xtrain)\n",
    "pred_ts = model.predict(xtest)\n",
    "from sklearn.metrics import accuracy_score\n",
    "tr_acc = accuracy_score(ytrain,pred_tr)\n",
    "ts_acc = accuracy_score(ytest,pred_ts)\n",
    "print(tr_acc,ts_acc)"
   ]
  },
  {
   "cell_type": "markdown",
   "id": "0246bbda",
   "metadata": {},
   "source": [
    "# Getting Data ready for predictions"
   ]
  },
  {
   "cell_type": "code",
   "execution_count": 49,
   "id": "12a0355e",
   "metadata": {},
   "outputs": [],
   "source": [
    "B = pd.read_csv(\"C:/Users/Arshadali Shaikh/Downloads/testing_set (1).csv\")"
   ]
  },
  {
   "cell_type": "code",
   "execution_count": 50,
   "id": "c138f479",
   "metadata": {},
   "outputs": [
    {
     "data": {
      "text/html": [
       "<div>\n",
       "<style scoped>\n",
       "    .dataframe tbody tr th:only-of-type {\n",
       "        vertical-align: middle;\n",
       "    }\n",
       "\n",
       "    .dataframe tbody tr th {\n",
       "        vertical-align: top;\n",
       "    }\n",
       "\n",
       "    .dataframe thead th {\n",
       "        text-align: right;\n",
       "    }\n",
       "</style>\n",
       "<table border=\"1\" class=\"dataframe\">\n",
       "  <thead>\n",
       "    <tr style=\"text-align: right;\">\n",
       "      <th></th>\n",
       "      <th>Loan_ID</th>\n",
       "      <th>Gender</th>\n",
       "      <th>Married</th>\n",
       "      <th>Dependents</th>\n",
       "      <th>Education</th>\n",
       "      <th>Self_Employed</th>\n",
       "      <th>ApplicantIncome</th>\n",
       "      <th>CoapplicantIncome</th>\n",
       "      <th>LoanAmount</th>\n",
       "      <th>Loan_Amount_Term</th>\n",
       "      <th>Credit_History</th>\n",
       "      <th>Property_Area</th>\n",
       "    </tr>\n",
       "  </thead>\n",
       "  <tbody>\n",
       "    <tr>\n",
       "      <th>0</th>\n",
       "      <td>LP001015</td>\n",
       "      <td>Male</td>\n",
       "      <td>Yes</td>\n",
       "      <td>0</td>\n",
       "      <td>Graduate</td>\n",
       "      <td>No</td>\n",
       "      <td>5720</td>\n",
       "      <td>0</td>\n",
       "      <td>110.0</td>\n",
       "      <td>360.0</td>\n",
       "      <td>1.0</td>\n",
       "      <td>Urban</td>\n",
       "    </tr>\n",
       "    <tr>\n",
       "      <th>1</th>\n",
       "      <td>LP001022</td>\n",
       "      <td>Male</td>\n",
       "      <td>Yes</td>\n",
       "      <td>1</td>\n",
       "      <td>Graduate</td>\n",
       "      <td>No</td>\n",
       "      <td>3076</td>\n",
       "      <td>1500</td>\n",
       "      <td>126.0</td>\n",
       "      <td>360.0</td>\n",
       "      <td>1.0</td>\n",
       "      <td>Urban</td>\n",
       "    </tr>\n",
       "    <tr>\n",
       "      <th>2</th>\n",
       "      <td>LP001031</td>\n",
       "      <td>Male</td>\n",
       "      <td>Yes</td>\n",
       "      <td>2</td>\n",
       "      <td>Graduate</td>\n",
       "      <td>No</td>\n",
       "      <td>5000</td>\n",
       "      <td>1800</td>\n",
       "      <td>208.0</td>\n",
       "      <td>360.0</td>\n",
       "      <td>1.0</td>\n",
       "      <td>Urban</td>\n",
       "    </tr>\n",
       "    <tr>\n",
       "      <th>3</th>\n",
       "      <td>LP001035</td>\n",
       "      <td>Male</td>\n",
       "      <td>Yes</td>\n",
       "      <td>2</td>\n",
       "      <td>Graduate</td>\n",
       "      <td>No</td>\n",
       "      <td>2340</td>\n",
       "      <td>2546</td>\n",
       "      <td>100.0</td>\n",
       "      <td>360.0</td>\n",
       "      <td>NaN</td>\n",
       "      <td>Urban</td>\n",
       "    </tr>\n",
       "    <tr>\n",
       "      <th>4</th>\n",
       "      <td>LP001051</td>\n",
       "      <td>Male</td>\n",
       "      <td>No</td>\n",
       "      <td>0</td>\n",
       "      <td>Not Graduate</td>\n",
       "      <td>No</td>\n",
       "      <td>3276</td>\n",
       "      <td>0</td>\n",
       "      <td>78.0</td>\n",
       "      <td>360.0</td>\n",
       "      <td>1.0</td>\n",
       "      <td>Urban</td>\n",
       "    </tr>\n",
       "    <tr>\n",
       "      <th>...</th>\n",
       "      <td>...</td>\n",
       "      <td>...</td>\n",
       "      <td>...</td>\n",
       "      <td>...</td>\n",
       "      <td>...</td>\n",
       "      <td>...</td>\n",
       "      <td>...</td>\n",
       "      <td>...</td>\n",
       "      <td>...</td>\n",
       "      <td>...</td>\n",
       "      <td>...</td>\n",
       "      <td>...</td>\n",
       "    </tr>\n",
       "    <tr>\n",
       "      <th>362</th>\n",
       "      <td>LP002971</td>\n",
       "      <td>Male</td>\n",
       "      <td>Yes</td>\n",
       "      <td>3+</td>\n",
       "      <td>Not Graduate</td>\n",
       "      <td>Yes</td>\n",
       "      <td>4009</td>\n",
       "      <td>1777</td>\n",
       "      <td>113.0</td>\n",
       "      <td>360.0</td>\n",
       "      <td>1.0</td>\n",
       "      <td>Urban</td>\n",
       "    </tr>\n",
       "    <tr>\n",
       "      <th>363</th>\n",
       "      <td>LP002975</td>\n",
       "      <td>Male</td>\n",
       "      <td>Yes</td>\n",
       "      <td>0</td>\n",
       "      <td>Graduate</td>\n",
       "      <td>No</td>\n",
       "      <td>4158</td>\n",
       "      <td>709</td>\n",
       "      <td>115.0</td>\n",
       "      <td>360.0</td>\n",
       "      <td>1.0</td>\n",
       "      <td>Urban</td>\n",
       "    </tr>\n",
       "    <tr>\n",
       "      <th>364</th>\n",
       "      <td>LP002980</td>\n",
       "      <td>Male</td>\n",
       "      <td>No</td>\n",
       "      <td>0</td>\n",
       "      <td>Graduate</td>\n",
       "      <td>No</td>\n",
       "      <td>3250</td>\n",
       "      <td>1993</td>\n",
       "      <td>126.0</td>\n",
       "      <td>360.0</td>\n",
       "      <td>NaN</td>\n",
       "      <td>Semiurban</td>\n",
       "    </tr>\n",
       "    <tr>\n",
       "      <th>365</th>\n",
       "      <td>LP002986</td>\n",
       "      <td>Male</td>\n",
       "      <td>Yes</td>\n",
       "      <td>0</td>\n",
       "      <td>Graduate</td>\n",
       "      <td>No</td>\n",
       "      <td>5000</td>\n",
       "      <td>2393</td>\n",
       "      <td>158.0</td>\n",
       "      <td>360.0</td>\n",
       "      <td>1.0</td>\n",
       "      <td>Rural</td>\n",
       "    </tr>\n",
       "    <tr>\n",
       "      <th>366</th>\n",
       "      <td>LP002989</td>\n",
       "      <td>Male</td>\n",
       "      <td>No</td>\n",
       "      <td>0</td>\n",
       "      <td>Graduate</td>\n",
       "      <td>Yes</td>\n",
       "      <td>9200</td>\n",
       "      <td>0</td>\n",
       "      <td>98.0</td>\n",
       "      <td>180.0</td>\n",
       "      <td>1.0</td>\n",
       "      <td>Rural</td>\n",
       "    </tr>\n",
       "  </tbody>\n",
       "</table>\n",
       "<p>367 rows × 12 columns</p>\n",
       "</div>"
      ],
      "text/plain": [
       "      Loan_ID Gender Married Dependents  ... LoanAmount Loan_Amount_Term  Credit_History  Property_Area\n",
       "0    LP001015   Male     Yes          0  ...      110.0            360.0             1.0          Urban\n",
       "1    LP001022   Male     Yes          1  ...      126.0            360.0             1.0          Urban\n",
       "2    LP001031   Male     Yes          2  ...      208.0            360.0             1.0          Urban\n",
       "3    LP001035   Male     Yes          2  ...      100.0            360.0             NaN          Urban\n",
       "4    LP001051   Male      No          0  ...       78.0            360.0             1.0          Urban\n",
       "..        ...    ...     ...        ...  ...        ...              ...             ...            ...\n",
       "362  LP002971   Male     Yes         3+  ...      113.0            360.0             1.0          Urban\n",
       "363  LP002975   Male     Yes          0  ...      115.0            360.0             1.0          Urban\n",
       "364  LP002980   Male      No          0  ...      126.0            360.0             NaN      Semiurban\n",
       "365  LP002986   Male     Yes          0  ...      158.0            360.0             1.0          Rural\n",
       "366  LP002989   Male      No          0  ...       98.0            180.0             1.0          Rural\n",
       "\n",
       "[367 rows x 12 columns]"
      ]
     },
     "execution_count": 50,
     "metadata": {},
     "output_type": "execute_result"
    }
   ],
   "source": [
    "B"
   ]
  },
  {
   "cell_type": "code",
   "execution_count": 51,
   "id": "6247857e",
   "metadata": {},
   "outputs": [],
   "source": [
    "B1 = B[X.columns].head()"
   ]
  },
  {
   "cell_type": "markdown",
   "id": "202df1f0",
   "metadata": {},
   "source": [
    "# Missing Data treatment"
   ]
  },
  {
   "cell_type": "code",
   "execution_count": 52,
   "id": "f37cf2c5",
   "metadata": {},
   "outputs": [
    {
     "data": {
      "text/plain": [
       "Credit_History       1\n",
       "CoapplicantIncome    0\n",
       "Property_Area        0\n",
       "Education            0\n",
       "Married              0\n",
       "dtype: int64"
      ]
     },
     "execution_count": 52,
     "metadata": {},
     "output_type": "execute_result"
    }
   ],
   "source": [
    "B1.isna().sum()"
   ]
  },
  {
   "cell_type": "code",
   "execution_count": 57,
   "id": "0ed40ea2",
   "metadata": {},
   "outputs": [],
   "source": [
    "replacer(B)"
   ]
  },
  {
   "cell_type": "code",
   "execution_count": 58,
   "id": "7a37a310",
   "metadata": {},
   "outputs": [],
   "source": [
    "cat = []\n",
    "con = []\n",
    "for i in B.columns:\n",
    "    if(B[i].dtypes == \"object\"):\n",
    "        cat.append(i)\n",
    "    else:\n",
    "        con.append(i)"
   ]
  },
  {
   "cell_type": "code",
   "execution_count": 59,
   "id": "df1fd95f",
   "metadata": {},
   "outputs": [],
   "source": [
    "B1 = pd.DataFrame(ss.transform(B[con]),columns=con)\n",
    "B2 = pd.get_dummies(B[cat])\n",
    "Bnew = B1.join(B2)"
   ]
  },
  {
   "cell_type": "code",
   "execution_count": 60,
   "id": "9969e6ce",
   "metadata": {},
   "outputs": [],
   "source": [
    "ready_for_pred = Bnew[Xnew.columns] # data ready for prediction."
   ]
  },
  {
   "cell_type": "code",
   "execution_count": 61,
   "id": "bfcce5ab",
   "metadata": {},
   "outputs": [],
   "source": [
    "predicted_final = model.predict(ready_for_pred)"
   ]
  },
  {
   "cell_type": "code",
   "execution_count": 62,
   "id": "61b28f0a",
   "metadata": {},
   "outputs": [],
   "source": [
    "E = pd.DataFrame([B.Loan_ID,predicted_final]).T\n",
    "E.columns = [\"Loan_ID\",\"Loan_Status\"]"
   ]
  },
  {
   "cell_type": "code",
   "execution_count": 63,
   "id": "ef166bee",
   "metadata": {},
   "outputs": [
    {
     "data": {
      "text/html": [
       "<div>\n",
       "<style scoped>\n",
       "    .dataframe tbody tr th:only-of-type {\n",
       "        vertical-align: middle;\n",
       "    }\n",
       "\n",
       "    .dataframe tbody tr th {\n",
       "        vertical-align: top;\n",
       "    }\n",
       "\n",
       "    .dataframe thead th {\n",
       "        text-align: right;\n",
       "    }\n",
       "</style>\n",
       "<table border=\"1\" class=\"dataframe\">\n",
       "  <thead>\n",
       "    <tr style=\"text-align: right;\">\n",
       "      <th></th>\n",
       "      <th>Loan_ID</th>\n",
       "      <th>Loan_Status</th>\n",
       "    </tr>\n",
       "  </thead>\n",
       "  <tbody>\n",
       "    <tr>\n",
       "      <th>0</th>\n",
       "      <td>LP001015</td>\n",
       "      <td>Y</td>\n",
       "    </tr>\n",
       "    <tr>\n",
       "      <th>1</th>\n",
       "      <td>LP001022</td>\n",
       "      <td>Y</td>\n",
       "    </tr>\n",
       "    <tr>\n",
       "      <th>2</th>\n",
       "      <td>LP001031</td>\n",
       "      <td>Y</td>\n",
       "    </tr>\n",
       "    <tr>\n",
       "      <th>3</th>\n",
       "      <td>LP001035</td>\n",
       "      <td>Y</td>\n",
       "    </tr>\n",
       "    <tr>\n",
       "      <th>4</th>\n",
       "      <td>LP001051</td>\n",
       "      <td>Y</td>\n",
       "    </tr>\n",
       "    <tr>\n",
       "      <th>...</th>\n",
       "      <td>...</td>\n",
       "      <td>...</td>\n",
       "    </tr>\n",
       "    <tr>\n",
       "      <th>362</th>\n",
       "      <td>LP002971</td>\n",
       "      <td>Y</td>\n",
       "    </tr>\n",
       "    <tr>\n",
       "      <th>363</th>\n",
       "      <td>LP002975</td>\n",
       "      <td>Y</td>\n",
       "    </tr>\n",
       "    <tr>\n",
       "      <th>364</th>\n",
       "      <td>LP002980</td>\n",
       "      <td>Y</td>\n",
       "    </tr>\n",
       "    <tr>\n",
       "      <th>365</th>\n",
       "      <td>LP002986</td>\n",
       "      <td>Y</td>\n",
       "    </tr>\n",
       "    <tr>\n",
       "      <th>366</th>\n",
       "      <td>LP002989</td>\n",
       "      <td>Y</td>\n",
       "    </tr>\n",
       "  </tbody>\n",
       "</table>\n",
       "<p>367 rows × 2 columns</p>\n",
       "</div>"
      ],
      "text/plain": [
       "      Loan_ID Loan_Status\n",
       "0    LP001015           Y\n",
       "1    LP001022           Y\n",
       "2    LP001031           Y\n",
       "3    LP001035           Y\n",
       "4    LP001051           Y\n",
       "..        ...         ...\n",
       "362  LP002971           Y\n",
       "363  LP002975           Y\n",
       "364  LP002980           Y\n",
       "365  LP002986           Y\n",
       "366  LP002989           Y\n",
       "\n",
       "[367 rows x 2 columns]"
      ]
     },
     "execution_count": 63,
     "metadata": {},
     "output_type": "execute_result"
    }
   ],
   "source": [
    "E"
   ]
  },
  {
   "cell_type": "code",
   "execution_count": null,
   "id": "00e05d44",
   "metadata": {},
   "outputs": [],
   "source": []
  }
 ],
 "metadata": {
  "kernelspec": {
   "display_name": "Python 3 (ipykernel)",
   "language": "python",
   "name": "python3"
  },
  "language_info": {
   "codemirror_mode": {
    "name": "ipython",
    "version": 3
   },
   "file_extension": ".py",
   "mimetype": "text/x-python",
   "name": "python",
   "nbconvert_exporter": "python",
   "pygments_lexer": "ipython3",
   "version": "3.9.7"
  }
 },
 "nbformat": 4,
 "nbformat_minor": 5
}
